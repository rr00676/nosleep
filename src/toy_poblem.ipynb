{
 "cells": [
  {
   "cell_type": "code",
   "execution_count": 4,
   "metadata": {},
   "outputs": [],
   "source": [
    "# create a dictionary with keys counts, name, atten, atten_params, dist, dist_params\n",
    "from scipy import stats\n",
    "from utils.attenuation import * \n",
    "from utils.motion import *\n",
    "\n",
    "exp = {'time': 120, 'hz': 10, 'trials': 100}\n",
    "\n",
    "obj_1 = {\n",
    "    'count': 2,\n",
    "    'name': 'test1',\n",
    "    'motion': linear,\n",
    "    'motion_params': {'start': np.array([[0,20],[0,60]]),\n",
    "                      'velocity':np.random.normal(1.8,0.2,2), \n",
    "                      'angle': np.random.uniform(0, 2*np.pi, 2)}\n",
    "    }\n",
    "\n",
    "obj_2 = {\n",
    "    'count': 2,\n",
    "    'name': 'test2',\n",
    "    'atten': inv_sql,\n",
    "    'atten_params': {'magnitidue': 10, 'scale': 7},\n",
    "    'dist': stats.norm,\n",
    "    'motion': stationary,\n",
    "    'motion_params': {'start': np.array([[25,0], [75,45]])}}\n",
    "\n",
    "\n",
    "\n",
    "\n",
    "\n"
   ]
  },
  {
   "cell_type": "code",
   "execution_count": null,
   "metadata": {},
   "outputs": [
    {
     "data": {
      "text/plain": [
       "True"
      ]
     },
     "execution_count": 2,
     "metadata": {},
     "output_type": "execute_result"
    }
   ],
   "source": [
    "from dataclasses import dataclass\n",
    "from typing import Callable, Dict, List, Union\n",
    "from utils.attenuation import *\n"
   ]
  },
  {
   "cell_type": "code",
   "execution_count": null,
   "metadata": {},
   "outputs": [
    {
     "ename": "TypeError",
     "evalue": "f() missing 1 required positional argument: 'x'",
     "output_type": "error",
     "traceback": [
      "\u001b[1;31m---------------------------------------------------------------------------\u001b[0m",
      "\u001b[1;31mTypeError\u001b[0m                                 Traceback (most recent call last)",
      "Cell \u001b[1;32mIn[7], line 1\u001b[0m\n\u001b[1;32m----> 1\u001b[0m \u001b[43mf\u001b[49m\u001b[43m(\u001b[49m\u001b[43m)\u001b[49m\n",
      "\u001b[1;31mTypeError\u001b[0m: f() missing 1 required positional argument: 'x'"
     ]
    }
   ],
   "source": []
  },
  {
   "cell_type": "code",
   "execution_count": null,
   "metadata": {},
   "outputs": [],
   "source": []
  }
 ],
 "metadata": {
  "kernelspec": {
   "display_name": "ryenv",
   "language": "python",
   "name": "python3"
  },
  "language_info": {
   "codemirror_mode": {
    "name": "ipython",
    "version": 3
   },
   "file_extension": ".py",
   "mimetype": "text/x-python",
   "name": "python",
   "nbconvert_exporter": "python",
   "pygments_lexer": "ipython3",
   "version": "3.13.0"
  }
 },
 "nbformat": 4,
 "nbformat_minor": 2
}
